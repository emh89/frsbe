{
 "cells": [
  {
   "cell_type": "markdown",
   "metadata": {},
   "source": [
    "# MSIT-IAPS FrSBe Analyses"
   ]
  },
  {
   "cell_type": "code",
   "execution_count": null,
   "metadata": {},
   "outputs": [],
   "source": [
    "#Set libraries\n",
    "import pandas as pd\n",
    "import numpy as np\n",
    "import conda\n",
    "import matplotlib.pyplot as plt\n",
    "import os\n",
    "import csv\n",
    "from scipy.stats import zscore\n",
    "from scipy import stats\n",
    "import seaborn as sns\n",
    "import copy"
   ]
  },
  {
   "cell_type": "code",
   "execution_count": null,
   "metadata": {
    "scrolled": true
   },
   "outputs": [],
   "source": [
    "dir='/Users/emilyhahn/projects/frsbe/'\n",
    "\n",
    "df=[]\n",
    "df=pd.read_csv('bp_hc_frsbe_rois_betas.csv')\n",
    "\n",
    "df=pd.DataFrame(df)\n",
    "bp_df=copy.copy(df[:38])\n",
    "hc_df=copy.copy(df[38:])\n",
    "\n",
    "display(df)"
   ]
  },
  {
   "cell_type": "code",
   "execution_count": null,
   "metadata": {
    "scrolled": true
   },
   "outputs": [],
   "source": [
    "# Z-score demographics\n",
    "df['age']=zscore(df['age'])\n",
    "df['education']=zscore(df['education'])\n",
    "\n",
    "# Z-score frsbe subscales and total\n",
    "df['frsb_aat']=zscore(df['frsb_aat'])\n",
    "df['frsb_adt']=zscore(df['frsb_adt'])\n",
    "df['frsb_aet']=zscore(df['frsb_aet'])\n",
    "df['frsb_att']=zscore(df['frsb_att'])\n",
    "\n",
    "df['Ldmpfc[-34.0 40.0 26.0]']=zscore(df['Ldmpfc[-34.0 40.0 26.0]'])\n",
    "df['Rdmpfc[34.0 40.0 26.0]']=zscore(df['Rdmpfc[34.0 40.0 26.0]'])\n",
    "df['Ldacc[-10.0 18.0 34.0]']=zscore(df['Ldacc[-10.0 18.0 34.0]'])\n",
    "df['Rdacc[10.0 18.0 34.0]']=zscore(df['Rdacc[10.0 18.0 34.0]'])\n",
    "df['Linsula[-30_18_8]']=zscore(df['Linsula[-30_18_8]'])\n",
    "df['Rinsula[30.0 18.0 8.0]']=zscore(df['Rinsula[30.0 18.0 8.0]'])\n",
    "df['Lthalamus[-8.0 -16.0 8.0]']=zscore(df['Lthalamus[-8.0 -16.0 8.0]'])\n",
    "df['Rthalamus[8.0 -16.0 8.0]']=zscore(df['Rthalamus[8.0 -16.0 8.0]'])\n",
    "df['Rdlpfc[42.0 28.0 26.0]']=zscore(df['Rdlpfc[42.0 28.0 26.0]'])"
   ]
  },
  {
   "cell_type": "code",
   "execution_count": null,
   "metadata": {},
   "outputs": [],
   "source": [
    "### Calculate demographic variables\n",
    "\n",
    "def demographics(subs):\n",
    "\n",
    "    mean_age=np.mean(subs['age'])\n",
    "    sd_age=np.std(subs['age'])\n",
    "    gender_count=subs['gender'].value_counts()\n",
    "\n",
    "    print('mean age: %d \\nstandard deviation: %d \\nfemale: %d male: %d' \\\n",
    "          % (mean_age,sd_age,gender_count[0],gender_count[1]))\n",
    "    \n",
    "    return\n",
    "\n",
    "print('BP and HC: ')\n",
    "demographics(df)\n",
    "\n",
    "print('\\nBP: ')\n",
    "demographics(bp_df)\n",
    "\n",
    "print('\\nHC: ')\n",
    "demographics(hc_df)"
   ]
  },
  {
   "cell_type": "markdown",
   "metadata": {},
   "source": [
    "### Linear Regressions: ROIS and FrSBe scores (Apathy, Disinhibition, Executive Functioning)"
   ]
  },
  {
   "cell_type": "code",
   "execution_count": null,
   "metadata": {
    "scrolled": true
   },
   "outputs": [],
   "source": [
    "###----------###\n",
    "\n",
    "%matplotlib inline\n",
    "\n",
    "frsbe=[df['frsb_aat'],df['frsb_adt'],df['frsb_aet'],df['frsb_att']]\n",
    "rois=[df['Ldmpfc[-34.0 40.0 26.0]'], df['Rdmpfc[34.0 40.0 26.0]'], \\\n",
    "      df['Ldacc[-10.0 18.0 34.0]'],df['Rdacc[10.0 18.0 34.0]'], \\\n",
    "      df['Linsula[-30_18_8]'],df['Rinsula[30.0 18.0 8.0]'], \\\n",
    "      df['Lthalamus[-8.0 -16.0 8.0]'],df['Rthalamus[8.0 -16.0 8.0]'], \\\n",
    "      df['Rdlpfc[42.0 28.0 26.0]']]\n",
    "      \n",
    "x1=[]\n",
    "y1=[]\n",
    "\n",
    "def plots(x1,y1):\n",
    "    for subscale in frsbe:\n",
    "        x1=subscale\n",
    "        for roi in rois:\n",
    "            y1=roi\n",
    "            sns.jointplot(x1, y1, data=df, kind=\"reg\")\n",
    "            plt.show()\n",
    "\n",
    "            slope, intercept, r_value, p_value, std_err = \\\n",
    "                stats.linregress(x1,y1)\n",
    "\n",
    "            print('Slope: %.2f \\nIntercept: %.2f \\nStandard Error: %.2f' \\\n",
    "                  % (slope, intercept, std_err))\n",
    "    return\n",
    "\n",
    "plots(x1,y1)\n",
    "\n",
    "## Rdlpf, aat, aet, att"
   ]
  },
  {
   "cell_type": "code",
   "execution_count": null,
   "metadata": {
    "scrolled": true
   },
   "outputs": [],
   "source": [
    "###----------###\n",
    "\n",
    "%matplotlib inline\n",
    "\n",
    "# display(bp_df)\n",
    "\n",
    "frsbe=[bp_df['frsb_aat'],bp_df['frsb_adt'],bp_df['frsb_aet'],bp_df['frsb_att']]\n",
    "rois=[bp_df['Ldmpfc[-34.0 40.0 26.0]'], bp_df['Rdmpfc[34.0 40.0 26.0]'], \\\n",
    "      bp_df['Ldacc[-10.0 18.0 34.0]'],bp_df['Rdacc[10.0 18.0 34.0]'], \\\n",
    "      bp_df['Linsula[-30_18_8]'],bp_df['Rinsula[30.0 18.0 8.0]'], \\\n",
    "      bp_df['Lthalamus[-8.0 -16.0 8.0]'],bp_df['Rthalamus[8.0 -16.0 8.0]'], \\\n",
    "      bp_df['Rdlpfc[42.0 28.0 26.0]']]\n",
    "      \n",
    "x1=[]\n",
    "y1=[]\n",
    "\n",
    "def plots(x1,y1):\n",
    "    for subscale in frsbe:\n",
    "        x1=subscale\n",
    "        for roi in rois:\n",
    "            y1=roi\n",
    "            sns.jointplot(x1, y1, data=bp_df, kind=\"reg\")\n",
    "#             sns.regplot(x1,y1,data=bp_df)\n",
    "            plt.show()\n",
    "\n",
    "#             slope, intercept, r_value, p_value, std_err = \\\n",
    "#                 stats.linregress(x1,y1)\n",
    "\n",
    "#             print('Slope: %.2f \\nIntercept: %.2f \\nStandard Error: %.2f' \\\n",
    "#                   % (slope, intercept, std_err))\n",
    "    return\n",
    "\n",
    "plots(x1,y1)\n",
    "\n",
    "## Hits:\n",
    "## R dACC, adt - neg\n",
    "## R Insula, aat - pos\n"
   ]
  },
  {
   "cell_type": "code",
   "execution_count": null,
   "metadata": {},
   "outputs": [],
   "source": [
    "###----------###\n",
    "\n",
    "%matplotlib inline\n",
    "\n",
    "frsbe=[hc_df['frsb_aat'],hc_df['frsb_adt'],hc_df['frsb_aet'],hc_df['frsb_att']]\n",
    "rois=[hc_df['Ldmpfc[-34.0 40.0 26.0]'], hc_df['Rdmpfc[34.0 40.0 26.0]'], \\\n",
    "      hc_df['Ldacc[-10.0 18.0 34.0]'],hc_df['Rdacc[10.0 18.0 34.0]'], \\\n",
    "      hc_df['Linsula[-30_18_8]'],hc_df['Rinsula[30.0 18.0 8.0]'], \\\n",
    "      hc_df['Lthalamus[-8.0 -16.0 8.0]'],hc_df['Rthalamus[8.0 -16.0 8.0]'], \\\n",
    "      hc_df['Rdlpfc[42.0 28.0 26.0]']]\n",
    "      \n",
    "x1=[]\n",
    "y1=[]\n",
    "\n",
    "def plots(x1,y1):\n",
    "    for subscale in frsbe:\n",
    "        x1=subscale\n",
    "        for roi in rois:\n",
    "            y1=roi\n",
    "            sns.jointplot(x1, y1, data=hc_df, kind=\"reg\")\n",
    "            plt.show()\n",
    "\n",
    "            slope, intercept, r_value, p_value, std_err = \\\n",
    "                stats.linregress(x1,y1)\n",
    "\n",
    "            print('Slope: %.2f \\nIntercept: %.2f \\nStandard Error: %.2f' \\\n",
    "                  % (slope, intercept, std_err))\n",
    "    return\n",
    "\n",
    "plots(x1,y1)\n",
    "\n",
    "### "
   ]
  },
  {
   "cell_type": "code",
   "execution_count": null,
   "metadata": {},
   "outputs": [],
   "source": []
  }
 ],
 "metadata": {
  "kernelspec": {
   "display_name": "Python 2",
   "language": "python",
   "name": "python2"
  },
  "language_info": {
   "codemirror_mode": {
    "name": "ipython",
    "version": 2
   },
   "file_extension": ".py",
   "mimetype": "text/x-python",
   "name": "python",
   "nbconvert_exporter": "python",
   "pygments_lexer": "ipython2",
   "version": "2.7.13"
  }
 },
 "nbformat": 4,
 "nbformat_minor": 2
}

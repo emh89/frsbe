{
 "cells": [
  {
   "cell_type": "markdown",
   "metadata": {},
   "source": [
    "# MSIT-IAPS FrSBe Analyses"
   ]
  },
  {
   "cell_type": "code",
   "execution_count": 1,
   "metadata": {
    "collapsed": true
   },
   "outputs": [],
   "source": [
    "#Set libraries\n",
    "import pandas as pd\n",
    "import numpy as np\n",
    "import conda\n",
    "import matplotlib.pyplot as plt\n",
    "import os\n",
    "import csv\n",
    "from scipy.stats import zscore"
   ]
  },
  {
   "cell_type": "markdown",
   "metadata": {},
   "source": [
    "### BA10 vs FrSBe (Apathy, Disinhibition, Executive Functioning)"
   ]
  },
  {
   "cell_type": "code",
   "execution_count": null,
   "metadata": {
    "collapsed": true
   },
   "outputs": [],
   "source": [
    "# Set up ROIs\n",
    "l_ba10=[]\n",
    "r_ba10=[]\n",
    "\n",
    "# Set up behavioral variables \n",
    "frsbe_apathy=[]\n",
    "frsbe_disinhib=[]\n",
    "frsbe_exec=[]\n",
    "\n",
    "# Create variables from .csv file\n",
    "with open('ba10.csv','r') as csvfile:\n",
    "    data=csv.reader(csvfile, delimiter=',')\n",
    "    for row in data:\n",
    "        l_ba10.append(float(row[0]))\n",
    "        r_ba10.append(float(row[1]))\n",
    "        frsbe_apathy.append(float(row[2]))\n",
    "        frsbe_disinhib.append(float(row[3]))\n",
    "        frsbe_exec.append(float(row[4]))\n",
    "\n",
    "# Convert variables to array format\n",
    "l_ba10=np.asarray(l_ba10)\n",
    "r_ba10=np.asarray(r_ba10)\n",
    "\n",
    "frsbe_apathy=np.asarray(frsbe_apathy)\n",
    "frsbe_disinhib=np.asarray(frsbe_disinhib)\n",
    "frsbe_exec=np.asarray(frsbe_exec)\n",
    "\n",
    "# Z-score arrays\n",
    "l_ba10=zscore(l_ba10)\n",
    "r_ba10=zscore(r_ba10)\n",
    "frsbe_apathy=zscore(frsbe_apathy)\n",
    "frsbe_disinhib=zscore(frsbe_disinhib)\n",
    "frsbe_exec=zscore(frsbe_exec)\n"
   ]
  },
  {
   "cell_type": "code",
   "execution_count": null,
   "metadata": {
    "collapsed": true
   },
   "outputs": [],
   "source": [
    "# Calculate correlation coefficients\n",
    "\n",
    "corrcoef1=np.corrcoef(frsbe_apathy,l_ba10)\n",
    "r1_index=corrcoef1[1][0]\n",
    "r1=('r = %.2f' % r1_index)\n",
    "\n",
    "corrcoef2=np.corrcoef(frsbe_apathy,r_ba10)\n",
    "r2_index=corrcoef2[1][0]\n",
    "r2=('r = %.2f' % r2_index)\n",
    "\n",
    "corrcoef3=np.corrcoef(frsbe_disinhib,l_ba10)\n",
    "r3_index=corrcoef3[1][0]\n",
    "r3=('r = %.2f' % r3_index)\n",
    "\n",
    "corrcoef4=np.corrcoef(frsbe_disinhib,r_ba10)\n",
    "r4_index=corrcoef4[1][0]\n",
    "r4=('r = %.2f' % r4_index)\n",
    "\n",
    "corrcoef5=np.corrcoef(frsbe_exec,l_ba10)\n",
    "r5_index=corrcoef5[1][0]\n",
    "r5=('r = %.2f' % r5_index)\n",
    "\n",
    "corrcoef6=np.corrcoef(frsbe_exec,r_ba10)\n",
    "r6_index=corrcoef6[1][0]\n",
    "r6=('r = %.2f' % r6_index)\n",
    "\n",
    "# Show plots\n",
    "\n",
    "plt.scatter(frsbe_apathy, l_ba10, label=r1, color='g')\n",
    "plt.xlabel('L BA10 brain betas')\n",
    "plt.ylabel('FrSBe- Apathy')\n",
    "plt.title('L BA10 brain betas vs. FrSBe- Apathy')\n",
    "plt.legend()\n",
    "plt.show()\n",
    "\n",
    "plt.scatter(frsbe_apathy, r_ba10, label=r2)\n",
    "plt.xlabel('R BA10 brain betas')\n",
    "plt.ylabel('FrSBe- Apathy')\n",
    "plt.title('R BA10 brain betas vs. FrSBe- Apathy')\n",
    "plt.legend()\n",
    "plt.show()\n",
    "\n",
    "plt.scatter(frsbe_disinhib, l_ba10, label=r3, color='g')\n",
    "plt.xlabel('L BA10 brain betas')\n",
    "plt.ylabel('FrSBe- Disinhib')\n",
    "plt.title('L BA10 brain betas vs. FrSBe- Disinhib')\n",
    "plt.legend()\n",
    "plt.show()\n",
    "\n",
    "plt.scatter(frsbe_disinhib, r_ba10, label=r4)\n",
    "plt.xlabel('R BA10 brain betas')\n",
    "plt.ylabel('FrSBe- Disinhib')\n",
    "plt.title('R BA10 brain betas vs. FrSBe- Disinhib')\n",
    "plt.legend()\n",
    "plt.show()\n",
    "\n",
    "plt.scatter(frsbe_exec, l_ba10, label=r5)\n",
    "plt.xlabel('L BA10 brain betas')\n",
    "plt.ylabel('FrSBe- Exec')\n",
    "plt.title('L BA10 brain betas vs. FrSBe- Exec')\n",
    "plt.legend()\n",
    "plt.show()\n",
    "\n",
    "plt.scatter(frsbe_exec, r_ba10, label=r6)\n",
    "plt.xlabel('R BA10 brain betas')\n",
    "plt.ylabel('FrSBe- Exec')\n",
    "plt.title('R BA10 brain betas vs. FrSBe- Exec')\n",
    "plt.legend()\n",
    "plt.show()"
   ]
  },
  {
   "cell_type": "code",
   "execution_count": null,
   "metadata": {
    "collapsed": true
   },
   "outputs": [],
   "source": []
  }
 ],
 "metadata": {
  "kernelspec": {
   "display_name": "Python 2",
   "language": "python",
   "name": "python2"
  },
  "language_info": {
   "codemirror_mode": {
    "name": "ipython",
    "version": 2
   },
   "file_extension": ".py",
   "mimetype": "text/x-python",
   "name": "python",
   "nbconvert_exporter": "python",
   "pygments_lexer": "ipython2",
   "version": "2.7.13"
  }
 },
 "nbformat": 4,
 "nbformat_minor": 2
}
